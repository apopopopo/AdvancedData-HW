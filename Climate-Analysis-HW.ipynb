{
 "cells": [
  {
   "cell_type": "markdown",
   "metadata": {},
   "source": [
    "## Step 3 - Climate Analysis and Exploration\n",
    "\n",
    "You are now ready to use Python and SQLAlchemy to do basic climate analysis and data exploration on your new weather station tables. All of the following analysis should be completed using SQLAlchemy ORM queries, Pandas, and Matplotlib.\n",
    "\n",
    "* Create a Jupyter Notebook file called `climate_analysis.ipynb` and use it to complete your climate analysis and data exporation.\n",
    "\n",
    "* Choose a start date and end date for your trip. Make sure that your vacation range is approximately 3-15 days total.\n",
    "\n",
    "* Use SQLAlchemy `create_engine` to connect to your sqlite database.\n",
    "\n",
    "* Use SQLAlchemy `automap_base()` to reflect your tables into classes and save a reference to those classes called `Station` and `Measurement`.\n",
    "\n",
    "### Precipitation Analysis\n",
    "\n",
    "* Design a query to retrieve the last 12 months of precipitation data.\n",
    "\n",
    "* Select only the `date` and `prcp` values.\n",
    "\n",
    "* Load the query results into a Pandas DataFrame and set the index to the date column.\n",
    "\n",
    "* Plot the results using the DataFrame `plot` method.\n",
    "\n",
    "* Use Pandas to print the summary statistics for the precipitation data.\n",
    "\n",
    "### Station Analysis\n",
    "\n",
    "* Design a query to calculate the total number of stations.\n",
    "\n",
    "* Design a query to find the most active stations.\n",
    "\n",
    "  * List the stations and observation counts in descending order\n",
    "\n",
    "  * Which station has the highest number of observations?\n",
    "\n",
    "* Design a query to retrieve the last 12 months of temperature observation data (tobs).\n",
    "\n",
    "  * Filter by the station with the highest number of observations.\n",
    "\n",
    "  * Plot the results as a histogram with `bins=12`.\n",
    "\n",
    "\n",
    "\n",
    "### Temperature Analysis\n",
    "\n",
    "* Write a function called `calc_temps` that will accept a start date and end date in the format `%Y-%m-%d` and return the minimum, average, and maximum temperatures for that range of dates.\n",
    "\n",
    "* Use the `calc_temps` function to calculate the min, avg, and max temperatures for your trip using the matching dates from the previous year (i.e. use \"2017-01-01\" if your trip start date was \"2018-01-01\")\n",
    "\n",
    "* Plot the min, avg, and max temperature from your previous query as a bar chart.\n",
    "\n",
    "  * Use the average temperature as the bar height.\n",
    "\n",
    "  * Use the peak-to-peak (tmax-tmin) value as the y error bar (yerr)."
   ]
  },
  {
   "cell_type": "code",
   "execution_count": 2,
   "metadata": {
    "collapsed": true
   },
   "outputs": [],
   "source": [
    "# Import SQLAlchemy and other dependencies\n",
    "import sqlalchemy\n",
    "from sqlalchemy.ext.automap import automap_base\n",
    "from sqlalchemy.orm import Session\n",
    "from sqlalchemy import create_engine, inspect, func\n",
    "import datetime as dt\n",
    "import pandas as pd\n",
    "import matplotlib\n",
    "from matplotlib import style\n",
    "style.use('seaborn')\n",
    "import matplotlib.pyplot as plt\n",
    "from sqlalchemy import Column, Integer, String, Float, Text, ForeignKey\n",
    "import numpy as np"
   ]
  },
  {
   "cell_type": "code",
   "execution_count": 3,
   "metadata": {
    "collapsed": true
   },
   "outputs": [],
   "source": [
    "# Create engine using the `hawaii.sqlite` database \n",
    "engine = create_engine(\"sqlite:///hawaii.sqlite\")\n",
    "# Declare a Base using `automap_base()`\n",
    "Base = automap_base()\n",
    "# Use the Base class to reflect the database tables\n",
    "Base.prepare(engine, reflect=True)"
   ]
  },
  {
   "cell_type": "code",
   "execution_count": 4,
   "metadata": {},
   "outputs": [
    {
     "data": {
      "text/plain": [
       "['measurement', 'station']"
      ]
     },
     "execution_count": 4,
     "metadata": {},
     "output_type": "execute_result"
    }
   ],
   "source": [
    "# Print all of the classes mapped to the Base\n",
    "Base.classes.keys()"
   ]
  },
  {
   "cell_type": "code",
   "execution_count": 5,
   "metadata": {},
   "outputs": [
    {
     "data": {
      "text/plain": [
       "['measurement', 'station']"
      ]
     },
     "execution_count": 5,
     "metadata": {},
     "output_type": "execute_result"
    }
   ],
   "source": [
    "# Create the inspector and connect it to the engine\n",
    "inspector = inspect(engine)\n",
    "\n",
    "# Collect the names of tables within the database\n",
    "inspector.get_table_names()"
   ]
  },
  {
   "cell_type": "code",
   "execution_count": 6,
   "metadata": {},
   "outputs": [
    {
     "data": {
      "text/plain": [
       "[(1, 'USC00519397', '2010-01-01', 0.08, 65),\n",
       " (2, 'USC00519397', '2010-01-02', 0.0, 63),\n",
       " (3, 'USC00519397', '2010-01-03', 0.0, 74),\n",
       " (4, 'USC00519397', '2010-01-04', 0.0, 76),\n",
       " (5, 'USC00519397', '2010-01-07', 0.06, 70),\n",
       " (6, 'USC00519397', '2010-01-08', 0.0, 64),\n",
       " (7, 'USC00519397', '2010-01-09', 0.0, 68),\n",
       " (8, 'USC00519397', '2010-01-10', 0.0, 73),\n",
       " (9, 'USC00519397', '2010-01-11', 0.01, 64),\n",
       " (10, 'USC00519397', '2010-01-12', 0.0, 61),\n",
       " (11, 'USC00519397', '2010-01-14', 0.0, 66),\n",
       " (12, 'USC00519397', '2010-01-15', 0.0, 65),\n",
       " (13, 'USC00519397', '2010-01-16', 0.0, 68),\n",
       " (14, 'USC00519397', '2010-01-17', 0.0, 64),\n",
       " (15, 'USC00519397', '2010-01-18', 0.0, 72),\n",
       " (16, 'USC00519397', '2010-01-19', 0.0, 66),\n",
       " (17, 'USC00519397', '2010-01-20', 0.0, 66),\n",
       " (18, 'USC00519397', '2010-01-21', 0.0, 69),\n",
       " (19, 'USC00519397', '2010-01-22', 0.0, 67),\n",
       " (20, 'USC00519397', '2010-01-23', 0.0, 67)]"
      ]
     },
     "execution_count": 6,
     "metadata": {},
     "output_type": "execute_result"
    }
   ],
   "source": [
    "# Use `engine.execute` to select and display the first 10 rows from the table\n",
    "\n",
    "engine.execute('SELECT * FROM measurement LIMIT 20').fetchall()"
   ]
  },
  {
   "cell_type": "code",
   "execution_count": 7,
   "metadata": {
    "collapsed": true
   },
   "outputs": [],
   "source": [
    "# Reflect Database into ORM class\n",
    "Station = Base.classes.station\n",
    "Measurement = Base.classes.measurement"
   ]
  },
  {
   "cell_type": "code",
   "execution_count": 8,
   "metadata": {
    "collapsed": true
   },
   "outputs": [],
   "source": [
    "# Start a session to query the database\n",
    "session = Session(engine)"
   ]
  },
  {
   "cell_type": "markdown",
   "metadata": {},
   "source": [
    "# Precipitation Analysis\n",
    "* Design a query to retrieve the last 12 months of precipitation data.\n",
    "\n",
    "* Select only the `date` and `prcp` values.\n",
    "\n",
    "* Load the query results into a Pandas DataFrame and set the index to the date column.\n",
    "\n",
    "* Plot the results using the DataFrame `plot` method.\n",
    "\n",
    "* Use Pandas to print the summary statistics for the precipitation data."
   ]
  },
  {
   "cell_type": "code",
   "execution_count": 9,
   "metadata": {},
   "outputs": [
    {
     "data": {
      "text/plain": [
       "('2017-08-23')"
      ]
     },
     "execution_count": 9,
     "metadata": {},
     "output_type": "execute_result"
    }
   ],
   "source": [
    "#Grab the latest date in database\n",
    "\n",
    "latest_date = session.query(Measurement.date).order_by(Measurement.date.desc()).first()\n",
    "\n",
    "\n",
    "year_ago = dt.date(2017,8,23) - dt.timedelta(days=365)\n",
    "\n",
    "latest_date "
   ]
  },
  {
   "cell_type": "code",
   "execution_count": 10,
   "metadata": {
    "collapsed": true,
    "scrolled": false
   },
   "outputs": [],
   "source": [
    "last_12 = session.query(Measurement.date,Measurement.prcp).\\\n",
    "    filter (Measurement.date > year_ago).all()"
   ]
  },
  {
   "cell_type": "code",
   "execution_count": 11,
   "metadata": {
    "collapsed": true
   },
   "outputs": [],
   "source": [
    "# Change the data type of 'date', from string to timestamp\n",
    "prcp_df = pd.DataFrame(last_12)\n",
    "type(prcp_df['date'][0])\n",
    "prcp_df['date']=pd.to_datetime(prcp_df['date'])"
   ]
  },
  {
   "cell_type": "code",
   "execution_count": 12,
   "metadata": {},
   "outputs": [
    {
     "data": {
      "text/plain": [
       "pandas._libs.tslib.Timestamp"
      ]
     },
     "execution_count": 12,
     "metadata": {},
     "output_type": "execute_result"
    }
   ],
   "source": [
    "# confirm data type of 'date' \n",
    "type(prcp_df['date'][0])\n"
   ]
  },
  {
   "cell_type": "code",
   "execution_count": 13,
   "metadata": {},
   "outputs": [
    {
     "data": {
      "image/png": "[encoded data removed]",
      "text/plain": [
       "<matplotlib.figure.Figure at 0x1140ecfd0>"
      ]
     },
     "metadata": {},
     "output_type": "display_data"
    }
   ],
   "source": [
    "prcp_df.plot('date', 'prcp')\n",
    "plt.xlabel(\"Date\")\n",
    "plt.ylabel(\"Precipitation in Inches\")\n",
    "plt.title(\"Precipitation Analysis (8/24/16 to 8/23/17)\")\n",
    "plt.legend([\"Precipitation\"])\n",
    "plt.tight_layout()\n",
    "plt.show()\n"
   ]
  },
  {
   "cell_type": "code",
   "execution_count": 14,
   "metadata": {},
   "outputs": [
    {
     "data": {
      "text/html": [
       "<div>\n",
       "<style scoped>\n",
       "    .dataframe tbody tr th:only-of-type {\n",
       "        vertical-align: middle;\n",
       "    }\n",
       "\n",
       "    .dataframe tbody tr th {\n",
       "        vertical-align: top;\n",
       "    }\n",
       "\n",
       "    .dataframe thead th {\n",
       "        text-align: right;\n",
       "    }\n",
       "</style>\n",
       "<table border=\"1\" class=\"dataframe\">\n",
       "  <thead>\n",
       "    <tr style=\"text-align: right;\">\n",
       "      <th></th>\n",
       "      <th>prcp</th>\n",
       "    </tr>\n",
       "    <tr>\n",
       "      <th>date</th>\n",
       "      <th></th>\n",
       "    </tr>\n",
       "  </thead>\n",
       "  <tbody>\n",
       "    <tr>\n",
       "      <th>2016-08-24</th>\n",
       "      <td>0.08</td>\n",
       "    </tr>\n",
       "    <tr>\n",
       "      <th>2016-08-25</th>\n",
       "      <td>0.08</td>\n",
       "    </tr>\n",
       "    <tr>\n",
       "      <th>2016-08-26</th>\n",
       "      <td>0.00</td>\n",
       "    </tr>\n",
       "    <tr>\n",
       "      <th>2016-08-27</th>\n",
       "      <td>0.00</td>\n",
       "    </tr>\n",
       "    <tr>\n",
       "      <th>2016-08-28</th>\n",
       "      <td>0.01</td>\n",
       "    </tr>\n",
       "  </tbody>\n",
       "</table>\n",
       "</div>"
      ],
      "text/plain": [
       "            prcp\n",
       "date            \n",
       "2016-08-24  0.08\n",
       "2016-08-25  0.08\n",
       "2016-08-26  0.00\n",
       "2016-08-27  0.00\n",
       "2016-08-28  0.01"
      ]
     },
     "execution_count": 14,
     "metadata": {},
     "output_type": "execute_result"
    }
   ],
   "source": [
    "prcp_df = pd.DataFrame(last_12)\n",
    "\n",
    "prcp_df.set_index('date').head()"
   ]
  },
  {
   "cell_type": "code",
   "execution_count": 15,
   "metadata": {},
   "outputs": [
    {
     "data": {
      "text/html": [
       "<div>\n",
       "<style scoped>\n",
       "    .dataframe tbody tr th:only-of-type {\n",
       "        vertical-align: middle;\n",
       "    }\n",
       "\n",
       "    .dataframe tbody tr th {\n",
       "        vertical-align: top;\n",
       "    }\n",
       "\n",
       "    .dataframe thead th {\n",
       "        text-align: right;\n",
       "    }\n",
       "</style>\n",
       "<table border=\"1\" class=\"dataframe\">\n",
       "  <thead>\n",
       "    <tr style=\"text-align: right;\">\n",
       "      <th></th>\n",
       "      <th>prcp</th>\n",
       "    </tr>\n",
       "  </thead>\n",
       "  <tbody>\n",
       "    <tr>\n",
       "      <th>count</th>\n",
       "      <td>2015.000000</td>\n",
       "    </tr>\n",
       "    <tr>\n",
       "      <th>mean</th>\n",
       "      <td>0.176462</td>\n",
       "    </tr>\n",
       "    <tr>\n",
       "      <th>std</th>\n",
       "      <td>0.460288</td>\n",
       "    </tr>\n",
       "    <tr>\n",
       "      <th>min</th>\n",
       "      <td>0.000000</td>\n",
       "    </tr>\n",
       "    <tr>\n",
       "      <th>25%</th>\n",
       "      <td>0.000000</td>\n",
       "    </tr>\n",
       "    <tr>\n",
       "      <th>50%</th>\n",
       "      <td>0.020000</td>\n",
       "    </tr>\n",
       "    <tr>\n",
       "      <th>75%</th>\n",
       "      <td>0.130000</td>\n",
       "    </tr>\n",
       "    <tr>\n",
       "      <th>max</th>\n",
       "      <td>6.700000</td>\n",
       "    </tr>\n",
       "  </tbody>\n",
       "</table>\n",
       "</div>"
      ],
      "text/plain": [
       "              prcp\n",
       "count  2015.000000\n",
       "mean      0.176462\n",
       "std       0.460288\n",
       "min       0.000000\n",
       "25%       0.000000\n",
       "50%       0.020000\n",
       "75%       0.130000\n",
       "max       6.700000"
      ]
     },
     "execution_count": 15,
     "metadata": {},
     "output_type": "execute_result"
    }
   ],
   "source": [
    "prcp_df.describe()"
   ]
  },
  {
   "cell_type": "markdown",
   "metadata": {},
   "source": [
    "# Station Analysis\n",
    "* Design a query to calculate the total number of stations.\n",
    "\n",
    "* Design a query to find the most active stations.\n",
    "\n",
    "  * List the stations and observation counts in descending order\n",
    "\n",
    "  * Which station has the highest number of observations?\n",
    "\n",
    "* Design a query to retrieve the last 12 months of temperature observation data (tobs).\n",
    "\n",
    "  * Filter by the station with the highest number of observations.\n",
    "\n",
    "  * Plot the results as a histogram with `bins=12`.\n",
    "\n",
    "  \n",
    "\n"
   ]
  },
  {
   "cell_type": "code",
   "execution_count": 16,
   "metadata": {},
   "outputs": [
    {
     "name": "stdout",
     "output_type": "stream",
     "text": [
      "There are 9 stations.\n"
     ]
    }
   ],
   "source": [
    "# Count how many stations in total\n",
    "stations=session.query(Measurement).group_by(Measurement.station).count()\n",
    "print(\"There are {} stations.\".format(stations))"
   ]
  },
  {
   "cell_type": "code",
   "execution_count": 17,
   "metadata": {},
   "outputs": [
    {
     "name": "stdout",
     "output_type": "stream",
     "text": [
      "The station USC00519281 has the highest number of observations , which is 2772 .\n"
     ]
    }
   ],
   "source": [
    "observation_count=engine.execute('SELECT station,COUNT(tobs) FROM measurement GROUP BY station ORDER BY COUNT(tobs) DESC ').fetchall()\n",
    "\n",
    "observation_count\n",
    "\n",
    "print(\"The station\",observation_count[0][0],\"has the highest number of observations\",\",\",\"which is\",observation_count[0][1],\".\")"
   ]
  },
  {
   "cell_type": "code",
   "execution_count": 18,
   "metadata": {},
   "outputs": [
    {
     "data": {
      "text/plain": [
       "[('2016-08-24', 'USC00519281', 77),\n",
       " ('2016-08-25', 'USC00519281', 80),\n",
       " ('2016-08-26', 'USC00519281', 80),\n",
       " ('2016-08-27', 'USC00519281', 75),\n",
       " ('2016-08-28', 'USC00519281', 73),\n",
       " ('2016-08-29', 'USC00519281', 78),\n",
       " ('2016-08-30', 'USC00519281', 77),\n",
       " ('2016-08-31', 'USC00519281', 78),\n",
       " ('2016-09-01', 'USC00519281', 80),\n",
       " ('2016-09-02', 'USC00519281', 80),\n",
       " ('2016-09-03', 'USC00519281', 78),\n",
       " ('2016-09-04', 'USC00519281', 78),\n",
       " ('2016-09-05', 'USC00519281', 78),\n",
       " ('2016-09-06', 'USC00519281', 73),\n",
       " ('2016-09-07', 'USC00519281', 74),\n",
       " ('2016-09-08', 'USC00519281', 80),\n",
       " ('2016-09-09', 'USC00519281', 79),\n",
       " ('2016-09-10', 'USC00519281', 77),\n",
       " ('2016-09-11', 'USC00519281', 80),\n",
       " ('2016-09-12', 'USC00519281', 76),\n",
       " ('2016-09-13', 'USC00519281', 79),\n",
       " ('2016-09-14', 'USC00519281', 75),\n",
       " ('2016-09-15', 'USC00519281', 79),\n",
       " ('2016-09-16', 'USC00519281', 78),\n",
       " ('2016-09-17', 'USC00519281', 79),\n",
       " ('2016-09-18', 'USC00519281', 78),\n",
       " ('2016-09-19', 'USC00519281', 78),\n",
       " ('2016-09-20', 'USC00519281', 76),\n",
       " ('2016-09-21', 'USC00519281', 74),\n",
       " ('2016-09-22', 'USC00519281', 77),\n",
       " ('2016-09-23', 'USC00519281', 78),\n",
       " ('2016-09-24', 'USC00519281', 79),\n",
       " ('2016-09-25', 'USC00519281', 79),\n",
       " ('2016-09-26', 'USC00519281', 77),\n",
       " ('2016-09-27', 'USC00519281', 80),\n",
       " ('2016-09-28', 'USC00519281', 78),\n",
       " ('2016-09-29', 'USC00519281', 78),\n",
       " ('2016-09-30', 'USC00519281', 78),\n",
       " ('2016-10-01', 'USC00519281', 77),\n",
       " ('2016-10-02', 'USC00519281', 79),\n",
       " ('2016-10-03', 'USC00519281', 79),\n",
       " ('2016-10-04', 'USC00519281', 79),\n",
       " ('2016-10-05', 'USC00519281', 79),\n",
       " ('2016-10-06', 'USC00519281', 75),\n",
       " ('2016-10-07', 'USC00519281', 76),\n",
       " ('2016-10-08', 'USC00519281', 73),\n",
       " ('2016-10-09', 'USC00519281', 72),\n",
       " ('2016-10-10', 'USC00519281', 71),\n",
       " ('2016-10-11', 'USC00519281', 77),\n",
       " ('2016-10-12', 'USC00519281', 79),\n",
       " ('2016-10-13', 'USC00519281', 78),\n",
       " ('2016-10-14', 'USC00519281', 79),\n",
       " ('2016-10-15', 'USC00519281', 77),\n",
       " ('2016-10-16', 'USC00519281', 79),\n",
       " ('2016-10-17', 'USC00519281', 77),\n",
       " ('2016-10-18', 'USC00519281', 78),\n",
       " ('2016-10-19', 'USC00519281', 78),\n",
       " ('2016-10-20', 'USC00519281', 78),\n",
       " ('2016-10-21', 'USC00519281', 78),\n",
       " ('2016-10-22', 'USC00519281', 77),\n",
       " ('2016-10-23', 'USC00519281', 74),\n",
       " ('2016-10-24', 'USC00519281', 75),\n",
       " ('2016-10-25', 'USC00519281', 76),\n",
       " ('2016-10-26', 'USC00519281', 73),\n",
       " ('2016-10-27', 'USC00519281', 76),\n",
       " ('2016-10-28', 'USC00519281', 74),\n",
       " ('2016-10-29', 'USC00519281', 77),\n",
       " ('2016-10-30', 'USC00519281', 76),\n",
       " ('2016-10-31', 'USC00519281', 76),\n",
       " ('2016-11-01', 'USC00519281', 74),\n",
       " ('2016-11-02', 'USC00519281', 75),\n",
       " ('2016-11-03', 'USC00519281', 75),\n",
       " ('2016-11-04', 'USC00519281', 75),\n",
       " ('2016-11-05', 'USC00519281', 75),\n",
       " ('2016-11-06', 'USC00519281', 71),\n",
       " ('2016-11-07', 'USC00519281', 63),\n",
       " ('2016-11-08', 'USC00519281', 70),\n",
       " ('2016-11-09', 'USC00519281', 68),\n",
       " ('2016-11-10', 'USC00519281', 67),\n",
       " ('2016-11-11', 'USC00519281', 77),\n",
       " ('2016-11-12', 'USC00519281', 74),\n",
       " ('2016-11-13', 'USC00519281', 77),\n",
       " ('2016-11-14', 'USC00519281', 76),\n",
       " ('2016-11-15', 'USC00519281', 76),\n",
       " ('2016-11-16', 'USC00519281', 75),\n",
       " ('2016-11-17', 'USC00519281', 76),\n",
       " ('2016-11-18', 'USC00519281', 75),\n",
       " ('2016-11-19', 'USC00519281', 73),\n",
       " ('2016-11-20', 'USC00519281', 75),\n",
       " ('2016-11-21', 'USC00519281', 73),\n",
       " ('2016-11-22', 'USC00519281', 75),\n",
       " ('2016-11-23', 'USC00519281', 74),\n",
       " ('2016-11-24', 'USC00519281', 75),\n",
       " ('2016-11-25', 'USC00519281', 74),\n",
       " ('2016-11-26', 'USC00519281', 75),\n",
       " ('2016-11-27', 'USC00519281', 73),\n",
       " ('2016-11-28', 'USC00519281', 75),\n",
       " ('2016-11-29', 'USC00519281', 73),\n",
       " ('2016-11-30', 'USC00519281', 73),\n",
       " ('2016-12-01', 'USC00519281', 74),\n",
       " ('2016-12-02', 'USC00519281', 70),\n",
       " ('2016-12-03', 'USC00519281', 72),\n",
       " ('2016-12-04', 'USC00519281', 70),\n",
       " ('2016-12-05', 'USC00519281', 67),\n",
       " ('2016-12-06', 'USC00519281', 67),\n",
       " ('2016-12-07', 'USC00519281', 69),\n",
       " ('2016-12-08', 'USC00519281', 70),\n",
       " ('2016-12-09', 'USC00519281', 68),\n",
       " ('2016-12-10', 'USC00519281', 69),\n",
       " ('2016-12-11', 'USC00519281', 69),\n",
       " ('2016-12-12', 'USC00519281', 66),\n",
       " ('2016-12-13', 'USC00519281', 65),\n",
       " ('2016-12-14', 'USC00519281', 68),\n",
       " ('2016-12-15', 'USC00519281', 62),\n",
       " ('2016-12-16', 'USC00519281', 75),\n",
       " ('2016-12-17', 'USC00519281', 70),\n",
       " ('2016-12-18', 'USC00519281', 69),\n",
       " ('2016-12-19', 'USC00519281', 76),\n",
       " ('2016-12-20', 'USC00519281', 76),\n",
       " ('2016-12-21', 'USC00519281', 74),\n",
       " ('2016-12-22', 'USC00519281', 73),\n",
       " ('2016-12-23', 'USC00519281', 71),\n",
       " ('2016-12-24', 'USC00519281', 74),\n",
       " ('2016-12-25', 'USC00519281', 74),\n",
       " ('2016-12-26', 'USC00519281', 72),\n",
       " ('2016-12-27', 'USC00519281', 71),\n",
       " ('2016-12-28', 'USC00519281', 72),\n",
       " ('2016-12-29', 'USC00519281', 74),\n",
       " ('2016-12-30', 'USC00519281', 69),\n",
       " ('2016-12-31', 'USC00519281', 67),\n",
       " ('2017-01-01', 'USC00519281', 72),\n",
       " ('2017-01-02', 'USC00519281', 70),\n",
       " ('2017-01-03', 'USC00519281', 64),\n",
       " ('2017-01-04', 'USC00519281', 63),\n",
       " ('2017-01-05', 'USC00519281', 63),\n",
       " ('2017-01-06', 'USC00519281', 62),\n",
       " ('2017-01-07', 'USC00519281', 70),\n",
       " ('2017-01-08', 'USC00519281', 70),\n",
       " ('2017-01-09', 'USC00519281', 62),\n",
       " ('2017-01-10', 'USC00519281', 62),\n",
       " ('2017-01-11', 'USC00519281', 63),\n",
       " ('2017-01-12', 'USC00519281', 65),\n",
       " ('2017-01-13', 'USC00519281', 69),\n",
       " ('2017-01-14', 'USC00519281', 77),\n",
       " ('2017-01-15', 'USC00519281', 70),\n",
       " ('2017-01-16', 'USC00519281', 74),\n",
       " ('2017-01-17', 'USC00519281', 69),\n",
       " ('2017-01-18', 'USC00519281', 72),\n",
       " ('2017-01-19', 'USC00519281', 71),\n",
       " ('2017-01-20', 'USC00519281', 69),\n",
       " ('2017-01-21', 'USC00519281', 71),\n",
       " ('2017-01-22', 'USC00519281', 71),\n",
       " ('2017-01-23', 'USC00519281', 72),\n",
       " ('2017-01-24', 'USC00519281', 72),\n",
       " ('2017-01-25', 'USC00519281', 69),\n",
       " ('2017-01-26', 'USC00519281', 70),\n",
       " ('2017-01-27', 'USC00519281', 66),\n",
       " ('2017-01-28', 'USC00519281', 65),\n",
       " ('2017-01-29', 'USC00519281', 69),\n",
       " ('2017-01-30', 'USC00519281', 68),\n",
       " ('2017-01-31', 'USC00519281', 68),\n",
       " ('2017-02-01', 'USC00519281', 68),\n",
       " ('2017-02-02', 'USC00519281', 59),\n",
       " ('2017-02-03', 'USC00519281', 60),\n",
       " ('2017-02-04', 'USC00519281', 70),\n",
       " ('2017-02-05', 'USC00519281', 73),\n",
       " ('2017-02-06', 'USC00519281', 75),\n",
       " ('2017-02-07', 'USC00519281', 64),\n",
       " ('2017-02-08', 'USC00519281', 59),\n",
       " ('2017-02-09', 'USC00519281', 59),\n",
       " ('2017-02-10', 'USC00519281', 62),\n",
       " ('2017-02-11', 'USC00519281', 68),\n",
       " ('2017-02-12', 'USC00519281', 70),\n",
       " ('2017-02-13', 'USC00519281', 73),\n",
       " ('2017-02-14', 'USC00519281', 79),\n",
       " ('2017-02-15', 'USC00519281', 75),\n",
       " ('2017-02-16', 'USC00519281', 65),\n",
       " ('2017-02-17', 'USC00519281', 70),\n",
       " ('2017-02-18', 'USC00519281', 74),\n",
       " ('2017-02-19', 'USC00519281', 70),\n",
       " ('2017-02-20', 'USC00519281', 70),\n",
       " ('2017-02-21', 'USC00519281', 71),\n",
       " ('2017-02-22', 'USC00519281', 71),\n",
       " ('2017-02-23', 'USC00519281', 71),\n",
       " ('2017-02-24', 'USC00519281', 69),\n",
       " ('2017-02-25', 'USC00519281', 61),\n",
       " ('2017-02-26', 'USC00519281', 67),\n",
       " ('2017-02-27', 'USC00519281', 65),\n",
       " ('2017-02-28', 'USC00519281', 72),\n",
       " ('2017-03-01', 'USC00519281', 71),\n",
       " ('2017-03-02', 'USC00519281', 73),\n",
       " ('2017-03-03', 'USC00519281', 72),\n",
       " ('2017-03-04', 'USC00519281', 77),\n",
       " ('2017-03-05', 'USC00519281', 73),\n",
       " ('2017-03-06', 'USC00519281', 67),\n",
       " ('2017-03-07', 'USC00519281', 62),\n",
       " ('2017-03-08', 'USC00519281', 64),\n",
       " ('2017-03-09', 'USC00519281', 67),\n",
       " ('2017-03-10', 'USC00519281', 66),\n",
       " ('2017-03-11', 'USC00519281', 81),\n",
       " ('2017-03-12', 'USC00519281', 69),\n",
       " ('2017-03-13', 'USC00519281', 66),\n",
       " ('2017-03-14', 'USC00519281', 67),\n",
       " ('2017-03-15', 'USC00519281', 69),\n",
       " ('2017-03-16', 'USC00519281', 66),\n",
       " ('2017-03-17', 'USC00519281', 68),\n",
       " ('2017-03-18', 'USC00519281', 65),\n",
       " ('2017-03-19', 'USC00519281', 74),\n",
       " ('2017-03-20', 'USC00519281', 69),\n",
       " ('2017-03-21', 'USC00519281', 72),\n",
       " ('2017-03-22', 'USC00519281', 73),\n",
       " ('2017-03-23', 'USC00519281', 72),\n",
       " ('2017-03-24', 'USC00519281', 71),\n",
       " ('2017-03-25', 'USC00519281', 76),\n",
       " ('2017-03-26', 'USC00519281', 77),\n",
       " ('2017-03-27', 'USC00519281', 76),\n",
       " ('2017-03-28', 'USC00519281', 74),\n",
       " ('2017-03-29', 'USC00519281', 68),\n",
       " ('2017-03-30', 'USC00519281', 73),\n",
       " ('2017-03-31', 'USC00519281', 71),\n",
       " ('2017-04-01', 'USC00519281', 74),\n",
       " ('2017-04-02', 'USC00519281', 75),\n",
       " ('2017-04-03', 'USC00519281', 70),\n",
       " ('2017-04-04', 'USC00519281', 67),\n",
       " ('2017-04-05', 'USC00519281', 71),\n",
       " ('2017-04-06', 'USC00519281', 67),\n",
       " ('2017-04-07', 'USC00519281', 74),\n",
       " ('2017-04-08', 'USC00519281', 77),\n",
       " ('2017-04-09', 'USC00519281', 78),\n",
       " ('2017-04-10', 'USC00519281', 67),\n",
       " ('2017-04-11', 'USC00519281', 70),\n",
       " ('2017-04-12', 'USC00519281', 69),\n",
       " ('2017-04-13', 'USC00519281', 69),\n",
       " ('2017-04-14', 'USC00519281', 74),\n",
       " ('2017-04-15', 'USC00519281', 78),\n",
       " ('2017-04-16', 'USC00519281', 71),\n",
       " ('2017-04-17', 'USC00519281', 67),\n",
       " ('2017-04-18', 'USC00519281', 68),\n",
       " ('2017-04-19', 'USC00519281', 67),\n",
       " ('2017-04-20', 'USC00519281', 76),\n",
       " ('2017-04-21', 'USC00519281', 69),\n",
       " ('2017-04-22', 'USC00519281', 72),\n",
       " ('2017-04-23', 'USC00519281', 76),\n",
       " ('2017-04-24', 'USC00519281', 68),\n",
       " ('2017-04-25', 'USC00519281', 72),\n",
       " ('2017-04-26', 'USC00519281', 74),\n",
       " ('2017-04-27', 'USC00519281', 70),\n",
       " ('2017-04-28', 'USC00519281', 67),\n",
       " ('2017-04-29', 'USC00519281', 72),\n",
       " ('2017-04-30', 'USC00519281', 60),\n",
       " ('2017-05-01', 'USC00519281', 65),\n",
       " ('2017-05-02', 'USC00519281', 75),\n",
       " ('2017-05-03', 'USC00519281', 70),\n",
       " ('2017-05-04', 'USC00519281', 75),\n",
       " ('2017-05-05', 'USC00519281', 70),\n",
       " ('2017-05-06', 'USC00519281', 79),\n",
       " ('2017-05-07', 'USC00519281', 75),\n",
       " ('2017-05-08', 'USC00519281', 70),\n",
       " ('2017-05-09', 'USC00519281', 67),\n",
       " ('2017-05-10', 'USC00519281', 74),\n",
       " ('2017-05-11', 'USC00519281', 70),\n",
       " ('2017-05-12', 'USC00519281', 75),\n",
       " ('2017-05-13', 'USC00519281', 76),\n",
       " ('2017-05-14', 'USC00519281', 77),\n",
       " ('2017-05-15', 'USC00519281', 74),\n",
       " ('2017-05-16', 'USC00519281', 74),\n",
       " ('2017-05-17', 'USC00519281', 74),\n",
       " ('2017-05-18', 'USC00519281', 69),\n",
       " ('2017-05-19', 'USC00519281', 68),\n",
       " ('2017-05-20', 'USC00519281', 76),\n",
       " ('2017-05-21', 'USC00519281', 74),\n",
       " ('2017-05-22', 'USC00519281', 71),\n",
       " ('2017-05-23', 'USC00519281', 71),\n",
       " ('2017-05-24', 'USC00519281', 74),\n",
       " ('2017-05-25', 'USC00519281', 74),\n",
       " ('2017-05-26', 'USC00519281', 74),\n",
       " ('2017-05-27', 'USC00519281', 74),\n",
       " ('2017-05-28', 'USC00519281', 80),\n",
       " ('2017-05-29', 'USC00519281', 74),\n",
       " ('2017-05-30', 'USC00519281', 72),\n",
       " ('2017-05-31', 'USC00519281', 75),\n",
       " ('2017-06-01', 'USC00519281', 80),\n",
       " ('2017-06-02', 'USC00519281', 76),\n",
       " ('2017-06-03', 'USC00519281', 76),\n",
       " ('2017-06-04', 'USC00519281', 77),\n",
       " ('2017-06-05', 'USC00519281', 75),\n",
       " ('2017-06-06', 'USC00519281', 75),\n",
       " ('2017-06-07', 'USC00519281', 75),\n",
       " ('2017-06-08', 'USC00519281', 75),\n",
       " ('2017-06-09', 'USC00519281', 72),\n",
       " ('2017-06-10', 'USC00519281', 74),\n",
       " ('2017-06-11', 'USC00519281', 74),\n",
       " ('2017-06-12', 'USC00519281', 74),\n",
       " ('2017-06-13', 'USC00519281', 76),\n",
       " ('2017-06-14', 'USC00519281', 74),\n",
       " ('2017-06-15', 'USC00519281', 75),\n",
       " ('2017-06-16', 'USC00519281', 73),\n",
       " ('2017-06-17', 'USC00519281', 79),\n",
       " ('2017-06-18', 'USC00519281', 75),\n",
       " ('2017-06-19', 'USC00519281', 72),\n",
       " ('2017-06-20', 'USC00519281', 72),\n",
       " ('2017-06-21', 'USC00519281', 74),\n",
       " ('2017-06-22', 'USC00519281', 72),\n",
       " ('2017-06-23', 'USC00519281', 72),\n",
       " ('2017-06-24', 'USC00519281', 77),\n",
       " ('2017-06-25', 'USC00519281', 71),\n",
       " ('2017-06-26', 'USC00519281', 73),\n",
       " ('2017-06-27', 'USC00519281', 76),\n",
       " ('2017-06-28', 'USC00519281', 77),\n",
       " ('2017-06-29', 'USC00519281', 76),\n",
       " ('2017-06-30', 'USC00519281', 76),\n",
       " ('2017-07-01', 'USC00519281', 79),\n",
       " ('2017-07-02', 'USC00519281', 81),\n",
       " ('2017-07-03', 'USC00519281', 76),\n",
       " ('2017-07-04', 'USC00519281', 78),\n",
       " ('2017-07-05', 'USC00519281', 77),\n",
       " ('2017-07-06', 'USC00519281', 74),\n",
       " ('2017-07-07', 'USC00519281', 75),\n",
       " ('2017-07-08', 'USC00519281', 78),\n",
       " ('2017-07-09', 'USC00519281', 78),\n",
       " ('2017-07-10', 'USC00519281', 69),\n",
       " ('2017-07-11', 'USC00519281', 72),\n",
       " ('2017-07-12', 'USC00519281', 74),\n",
       " ('2017-07-13', 'USC00519281', 74),\n",
       " ('2017-07-14', 'USC00519281', 76),\n",
       " ('2017-07-15', 'USC00519281', 80),\n",
       " ('2017-07-16', 'USC00519281', 80),\n",
       " ('2017-07-17', 'USC00519281', 76),\n",
       " ('2017-07-18', 'USC00519281', 76),\n",
       " ('2017-07-19', 'USC00519281', 76),\n",
       " ('2017-07-20', 'USC00519281', 77),\n",
       " ('2017-07-21', 'USC00519281', 77),\n",
       " ('2017-07-22', 'USC00519281', 77),\n",
       " ('2017-07-23', 'USC00519281', 82),\n",
       " ('2017-07-24', 'USC00519281', 75),\n",
       " ('2017-07-25', 'USC00519281', 77),\n",
       " ('2017-07-26', 'USC00519281', 75),\n",
       " ('2017-07-27', 'USC00519281', 76),\n",
       " ('2017-07-28', 'USC00519281', 81),\n",
       " ('2017-07-29', 'USC00519281', 82),\n",
       " ('2017-07-30', 'USC00519281', 81),\n",
       " ('2017-07-31', 'USC00519281', 76),\n",
       " ('2017-08-04', 'USC00519281', 77),\n",
       " ('2017-08-05', 'USC00519281', 82),\n",
       " ('2017-08-06', 'USC00519281', 83),\n",
       " ('2017-08-13', 'USC00519281', 77),\n",
       " ('2017-08-14', 'USC00519281', 77),\n",
       " ('2017-08-15', 'USC00519281', 77),\n",
       " ('2017-08-16', 'USC00519281', 76),\n",
       " ('2017-08-17', 'USC00519281', 76),\n",
       " ('2017-08-18', 'USC00519281', 79)]"
      ]
     },
     "execution_count": 18,
     "metadata": {},
     "output_type": "execute_result"
    }
   ],
   "source": [
    "tobs = session.query(Measurement.date,Measurement.station,Measurement.tobs).\\\n",
    "              filter(Measurement.station==\"USC00519281\").\\\n",
    "              filter(Measurement.date > year_ago).all()\n",
    "             \n",
    "tobs\n",
    "              "
   ]
  },
  {
   "cell_type": "code",
   "execution_count": 19,
   "metadata": {},
   "outputs": [
    {
     "data": {
      "text/html": [
       "<div>\n",
       "<style scoped>\n",
       "    .dataframe tbody tr th:only-of-type {\n",
       "        vertical-align: middle;\n",
       "    }\n",
       "\n",
       "    .dataframe tbody tr th {\n",
       "        vertical-align: top;\n",
       "    }\n",
       "\n",
       "    .dataframe thead th {\n",
       "        text-align: right;\n",
       "    }\n",
       "</style>\n",
       "<table border=\"1\" class=\"dataframe\">\n",
       "  <thead>\n",
       "    <tr style=\"text-align: right;\">\n",
       "      <th></th>\n",
       "      <th>date</th>\n",
       "      <th>station</th>\n",
       "      <th>tobs</th>\n",
       "    </tr>\n",
       "  </thead>\n",
       "  <tbody>\n",
       "    <tr>\n",
       "      <th>0</th>\n",
       "      <td>2016-08-24</td>\n",
       "      <td>USC00519281</td>\n",
       "      <td>77</td>\n",
       "    </tr>\n",
       "    <tr>\n",
       "      <th>1</th>\n",
       "      <td>2016-08-25</td>\n",
       "      <td>USC00519281</td>\n",
       "      <td>80</td>\n",
       "    </tr>\n",
       "    <tr>\n",
       "      <th>2</th>\n",
       "      <td>2016-08-26</td>\n",
       "      <td>USC00519281</td>\n",
       "      <td>80</td>\n",
       "    </tr>\n",
       "    <tr>\n",
       "      <th>3</th>\n",
       "      <td>2016-08-27</td>\n",
       "      <td>USC00519281</td>\n",
       "      <td>75</td>\n",
       "    </tr>\n",
       "    <tr>\n",
       "      <th>4</th>\n",
       "      <td>2016-08-28</td>\n",
       "      <td>USC00519281</td>\n",
       "      <td>73</td>\n",
       "    </tr>\n",
       "  </tbody>\n",
       "</table>\n",
       "</div>"
      ],
      "text/plain": [
       "         date      station  tobs\n",
       "0  2016-08-24  USC00519281    77\n",
       "1  2016-08-25  USC00519281    80\n",
       "2  2016-08-26  USC00519281    80\n",
       "3  2016-08-27  USC00519281    75\n",
       "4  2016-08-28  USC00519281    73"
      ]
     },
     "execution_count": 19,
     "metadata": {},
     "output_type": "execute_result"
    }
   ],
   "source": [
    "# put the tobs data to data frame\n",
    "tobs_df=pd.DataFrame(tobs)\n",
    "tobs_df.head()"
   ]
  },
  {
   "cell_type": "code",
   "execution_count": 20,
   "metadata": {},
   "outputs": [
    {
     "data": {
      "image/png": "[encoded data removed]",
      "text/plain": [
       "<matplotlib.figure.Figure at 0x11423a7b8>"
      ]
     },
     "metadata": {},
     "output_type": "display_data"
    }
   ],
   "source": [
    "#plot the tobs data\n",
    "tobs_df.plot.hist(bins=12)\n",
    "plt.xlabel(\"Temperature\")\n",
    "plt.title(\"Station Analysis (8/24/16 to 8/23/17) for Station \")\n",
    "plt.legend([\"tobs\"])\n",
    "plt.tight_layout()\n",
    "plt.show()"
   ]
  },
  {
   "cell_type": "markdown",
   "metadata": {},
   "source": [
    "### Temperature Analysis\n",
    "\n",
    "* Write a function called `calc_temps` that will accept a start date and end date in the format `%Y-%m-%d` and return the minimum, average, and maximum temperatures for that range of dates.\n",
    "\n",
    "* Use the `calc_temps` function to calculate the min, avg, and max temperatures for your trip using the matching dates from the previous year (i.e. use \"2017-01-01\" if your trip start date was \"2018-01-01\")\n",
    "\n",
    "* Plot the min, avg, and max temperature from your previous query as a bar chart.\n",
    "\n",
    "  * Use the average temperature as the bar height.\n",
    "\n",
    "  * Use the peak-to-peak (tmax-tmin) value as the y error bar (yerr).\n",
    "\n"
   ]
  },
  {
   "cell_type": "code",
   "execution_count": 33,
   "metadata": {},
   "outputs": [
    {
     "name": "stdout",
     "output_type": "stream",
     "text": [
      "[(73, 78.26, 82)]\n"
     ]
    },
    {
     "data": {
      "text/plain": [
       "[73.0, 78.26, 82.0]"
      ]
     },
     "execution_count": 33,
     "metadata": {},
     "output_type": "execute_result"
    }
   ],
   "source": [
    "def calc_temps(start_date, end_date):\n",
    "  \n",
    "    return session.query(func.min(Measurement.tobs), func.avg(Measurement.tobs), func.max(Measurement.tobs)).\\\n",
    "        filter(Measurement.date >= start_date).filter(Measurement.date <= end_date).all()\n",
    "\n",
    "# Test the function\n",
    "temp_range = (calc_temps('2016-09-28', '2016-10-05'))\n",
    "\n",
    "print(temp_range)\n",
    "list(np.ravel(temp_range))\n",
    "\n",
    "  "
   ]
  },
  {
   "cell_type": "code",
   "execution_count": 29,
   "metadata": {},
   "outputs": [
    {
     "data": {
      "image/png": "[encoded data removed]",
      "text/plain": [
       "<matplotlib.figure.Figure at 0x11489f550>"
      ]
     },
     "metadata": {},
     "output_type": "display_data"
    }
   ],
   "source": [
    "# plotting the data as a boxplot\n",
    "star_date=dt.date(2017,4,1)\n",
    "end_date=dt.date(2017,4,8)\n",
    "min_avg_max=calc_temps(star_date,end_date)\n",
    "fig, ax = plt.subplots()\n",
    "x = range(len(min_avg_max))\n",
    "ax.boxplot(min_avg_max, patch_artist=True)\n",
    "ax.set_title('Trip Average Temperature')\n",
    "ax.set_ylabel(\"Temperature\")\n",
    "ax.set_xlabel(\"2017-4-1 To 2017-4-8\")\n",
    "fig.tight_layout()\n",
    "plt.show()"
   ]
  },
  {
   "cell_type": "code",
   "execution_count": null,
   "metadata": {
    "collapsed": true
   },
   "outputs": [],
   "source": []
  },
  {
   "cell_type": "code",
   "execution_count": null,
   "metadata": {
    "collapsed": true
   },
   "outputs": [],
   "source": []
  }
 ],
 "metadata": {
  "kernelspec": {
   "display_name": "Python 3",
   "language": "python",
   "name": "python3"
  },
  "language_info": {
   "codemirror_mode": {
    "name": "ipython",
    "version": 3
   },
   "file_extension": ".py",
   "mimetype": "text/x-python",
   "name": "python",
   "nbconvert_exporter": "python",
   "pygments_lexer": "ipython3",
   "version": "3.6.3"
  }
 },
 "nbformat": 4,
 "nbformat_minor": 2
}
